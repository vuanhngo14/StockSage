{
 "cells": [
  {
   "cell_type": "code",
   "execution_count": 17,
   "metadata": {},
   "outputs": [],
   "source": [
    "# Import necessary packags\n",
    "\n",
    "import yfinance as yf\n",
    "import pandas as pd\n",
    "from datetime import datetime\n",
    "import matplotlib. pyplot as plt\n"
   ]
  },
  {
   "cell_type": "code",
   "execution_count": 18,
   "metadata": {},
   "outputs": [
    {
     "name": "stdout",
     "output_type": "stream",
     "text": [
      "[*********************100%%**********************]  1 of 1 completed\n"
     ]
    },
    {
     "data": {
      "text/html": [
       "<div>\n",
       "<style scoped>\n",
       "    .dataframe tbody tr th:only-of-type {\n",
       "        vertical-align: middle;\n",
       "    }\n",
       "\n",
       "    .dataframe tbody tr th {\n",
       "        vertical-align: top;\n",
       "    }\n",
       "\n",
       "    .dataframe thead th {\n",
       "        text-align: right;\n",
       "    }\n",
       "</style>\n",
       "<table border=\"1\" class=\"dataframe\">\n",
       "  <thead>\n",
       "    <tr style=\"text-align: right;\">\n",
       "      <th></th>\n",
       "      <th>Open</th>\n",
       "      <th>High</th>\n",
       "      <th>Low</th>\n",
       "      <th>Close</th>\n",
       "      <th>Adj Close</th>\n",
       "      <th>Volume</th>\n",
       "    </tr>\n",
       "    <tr>\n",
       "      <th>Date</th>\n",
       "      <th></th>\n",
       "      <th></th>\n",
       "      <th></th>\n",
       "      <th></th>\n",
       "      <th></th>\n",
       "      <th></th>\n",
       "    </tr>\n",
       "  </thead>\n",
       "  <tbody>\n",
       "    <tr>\n",
       "      <th>1990-01-02</th>\n",
       "      <td>0.314732</td>\n",
       "      <td>0.334821</td>\n",
       "      <td>0.312500</td>\n",
       "      <td>0.332589</td>\n",
       "      <td>0.263761</td>\n",
       "      <td>183198400</td>\n",
       "    </tr>\n",
       "    <tr>\n",
       "      <th>1990-01-03</th>\n",
       "      <td>0.339286</td>\n",
       "      <td>0.339286</td>\n",
       "      <td>0.334821</td>\n",
       "      <td>0.334821</td>\n",
       "      <td>0.265531</td>\n",
       "      <td>207995200</td>\n",
       "    </tr>\n",
       "    <tr>\n",
       "      <th>1990-01-04</th>\n",
       "      <td>0.341518</td>\n",
       "      <td>0.345982</td>\n",
       "      <td>0.332589</td>\n",
       "      <td>0.335938</td>\n",
       "      <td>0.266417</td>\n",
       "      <td>221513600</td>\n",
       "    </tr>\n",
       "    <tr>\n",
       "      <th>1990-01-05</th>\n",
       "      <td>0.337054</td>\n",
       "      <td>0.341518</td>\n",
       "      <td>0.330357</td>\n",
       "      <td>0.337054</td>\n",
       "      <td>0.267302</td>\n",
       "      <td>123312000</td>\n",
       "    </tr>\n",
       "    <tr>\n",
       "      <th>1990-01-08</th>\n",
       "      <td>0.334821</td>\n",
       "      <td>0.339286</td>\n",
       "      <td>0.330357</td>\n",
       "      <td>0.339286</td>\n",
       "      <td>0.269072</td>\n",
       "      <td>101572800</td>\n",
       "    </tr>\n",
       "    <tr>\n",
       "      <th>...</th>\n",
       "      <td>...</td>\n",
       "      <td>...</td>\n",
       "      <td>...</td>\n",
       "      <td>...</td>\n",
       "      <td>...</td>\n",
       "      <td>...</td>\n",
       "    </tr>\n",
       "    <tr>\n",
       "      <th>2023-10-19</th>\n",
       "      <td>176.039993</td>\n",
       "      <td>177.839996</td>\n",
       "      <td>175.190002</td>\n",
       "      <td>175.460007</td>\n",
       "      <td>175.460007</td>\n",
       "      <td>59302900</td>\n",
       "    </tr>\n",
       "    <tr>\n",
       "      <th>2023-10-20</th>\n",
       "      <td>175.309998</td>\n",
       "      <td>175.419998</td>\n",
       "      <td>172.639999</td>\n",
       "      <td>172.880005</td>\n",
       "      <td>172.880005</td>\n",
       "      <td>64189300</td>\n",
       "    </tr>\n",
       "    <tr>\n",
       "      <th>2023-10-23</th>\n",
       "      <td>170.910004</td>\n",
       "      <td>174.009995</td>\n",
       "      <td>169.929993</td>\n",
       "      <td>173.000000</td>\n",
       "      <td>173.000000</td>\n",
       "      <td>55980100</td>\n",
       "    </tr>\n",
       "    <tr>\n",
       "      <th>2023-10-24</th>\n",
       "      <td>173.050003</td>\n",
       "      <td>173.669998</td>\n",
       "      <td>171.449997</td>\n",
       "      <td>173.440002</td>\n",
       "      <td>173.440002</td>\n",
       "      <td>43816600</td>\n",
       "    </tr>\n",
       "    <tr>\n",
       "      <th>2023-10-25</th>\n",
       "      <td>171.880005</td>\n",
       "      <td>173.059998</td>\n",
       "      <td>170.649994</td>\n",
       "      <td>171.100006</td>\n",
       "      <td>171.100006</td>\n",
       "      <td>56939400</td>\n",
       "    </tr>\n",
       "  </tbody>\n",
       "</table>\n",
       "<p>8520 rows × 6 columns</p>\n",
       "</div>"
      ],
      "text/plain": [
       "                  Open        High         Low       Close   Adj Close  \\\n",
       "Date                                                                     \n",
       "1990-01-02    0.314732    0.334821    0.312500    0.332589    0.263761   \n",
       "1990-01-03    0.339286    0.339286    0.334821    0.334821    0.265531   \n",
       "1990-01-04    0.341518    0.345982    0.332589    0.335938    0.266417   \n",
       "1990-01-05    0.337054    0.341518    0.330357    0.337054    0.267302   \n",
       "1990-01-08    0.334821    0.339286    0.330357    0.339286    0.269072   \n",
       "...                ...         ...         ...         ...         ...   \n",
       "2023-10-19  176.039993  177.839996  175.190002  175.460007  175.460007   \n",
       "2023-10-20  175.309998  175.419998  172.639999  172.880005  172.880005   \n",
       "2023-10-23  170.910004  174.009995  169.929993  173.000000  173.000000   \n",
       "2023-10-24  173.050003  173.669998  171.449997  173.440002  173.440002   \n",
       "2023-10-25  171.880005  173.059998  170.649994  171.100006  171.100006   \n",
       "\n",
       "               Volume  \n",
       "Date                   \n",
       "1990-01-02  183198400  \n",
       "1990-01-03  207995200  \n",
       "1990-01-04  221513600  \n",
       "1990-01-05  123312000  \n",
       "1990-01-08  101572800  \n",
       "...               ...  \n",
       "2023-10-19   59302900  \n",
       "2023-10-20   64189300  \n",
       "2023-10-23   55980100  \n",
       "2023-10-24   43816600  \n",
       "2023-10-25   56939400  \n",
       "\n",
       "[8520 rows x 6 columns]"
      ]
     },
     "execution_count": 18,
     "metadata": {},
     "output_type": "execute_result"
    }
   ],
   "source": [
    "# Company stock code\n",
    "ticker_symbol = \"AAPL\" \n",
    "\n",
    "# Define the date range for the historical data\n",
    "start_date = \"1990-01-01\"\n",
    "end_date = datetime.today().strftime('%Y-%m-%d')\n",
    "\n",
    "# Fetch the historical stock data\n",
    "data = yf.download(ticker_symbol, start=start_date, end=end_date)\n",
    "\n",
    "# Create a DataFrame from the fetched data\n",
    "df = pd.DataFrame(data)\n",
    "\n",
    "df"
   ]
  },
  {
   "cell_type": "code",
   "execution_count": 19,
   "metadata": {},
   "outputs": [
    {
     "data": {
      "text/plain": [
       "Index(['Open', 'High', 'Low', 'Close', 'Adj Close', 'Volume'], dtype='object')"
      ]
     },
     "execution_count": 19,
     "metadata": {},
     "output_type": "execute_result"
    }
   ],
   "source": [
    "# List out the attributes \n",
    "df.columns"
   ]
  },
  {
   "cell_type": "code",
   "execution_count": 20,
   "metadata": {},
   "outputs": [
    {
     "data": {
      "text/plain": [
       "<Axes: xlabel='Date'>"
      ]
     },
     "execution_count": 20,
     "metadata": {},
     "output_type": "execute_result"
    },
    {
     "data": {
      "image/png": "[encoded data removed]",
      "text/plain": [
       "<Figure size 640x480 with 1 Axes>"
      ]
     },
     "metadata": {},
     "output_type": "display_data"
    }
   ],
   "source": [
    "df['Adj Close'].plot()"
   ]
  },
  {
   "cell_type": "code",
   "execution_count": null,
   "metadata": {},
   "outputs": [],
   "source": []
  }
 ],
 "metadata": {
  "kernelspec": {
   "display_name": "Python 3",
   "language": "python",
   "name": "python3"
  },
  "language_info": {
   "codemirror_mode": {
    "name": "ipython",
    "version": 3
   },
   "file_extension": ".py",
   "mimetype": "text/x-python",
   "name": "python",
   "nbconvert_exporter": "python",
   "pygments_lexer": "ipython3",
   "version": "3.8.18"
  }
 },
 "nbformat": 4,
 "nbformat_minor": 2
}

{
 "cells": [
  {
   "cell_type": "code",
   "execution_count": 53,
   "metadata": {},
   "outputs": [
    {
     "ename": "ModuleNotFoundError",
     "evalue": "No module named 'tensorflow'",
     "output_type": "error",
     "traceback": [
      "\u001b[0;31m---------------------------------------------------------------------------\u001b[0m",
      "\u001b[0;31mModuleNotFoundError\u001b[0m                       Traceback (most recent call last)",
      "\u001b[1;32m/Users/vuanhngo/Desktop/Github Repo/FYP-23-S4-25/test-2.ipynb Cell 1\u001b[0m line \u001b[0;36m1\n\u001b[1;32m     <a href='vscode-notebook-cell:/Users/vuanhngo/Desktop/Github%20Repo/FYP-23-S4-25/test-2.ipynb#X26sZmlsZQ%3D%3D?line=9'>10</a>\u001b[0m \u001b[39mimport\u001b[39;00m \u001b[39mmatplotlib\u001b[39;00m\u001b[39m.\u001b[39;00m\u001b[39mdates\u001b[39;00m \u001b[39mas\u001b[39;00m \u001b[39mmdates\u001b[39;00m  \n\u001b[1;32m     <a href='vscode-notebook-cell:/Users/vuanhngo/Desktop/Github%20Repo/FYP-23-S4-25/test-2.ipynb#X26sZmlsZQ%3D%3D?line=10'>11</a>\u001b[0m \u001b[39mfrom\u001b[39;00m \u001b[39msklearn\u001b[39;00m \u001b[39mimport\u001b[39;00m linear_model\n\u001b[0;32m---> <a href='vscode-notebook-cell:/Users/vuanhngo/Desktop/Github%20Repo/FYP-23-S4-25/test-2.ipynb#X26sZmlsZQ%3D%3D?line=11'>12</a>\u001b[0m \u001b[39mfrom\u001b[39;00m \u001b[39mtensorflow\u001b[39;00m\u001b[39m.\u001b[39;00m\u001b[39mkeras\u001b[39;00m\u001b[39m.\u001b[39;00m\u001b[39mmodels\u001b[39;00m \u001b[39mimport\u001b[39;00m Sequential \n\u001b[1;32m     <a href='vscode-notebook-cell:/Users/vuanhngo/Desktop/Github%20Repo/FYP-23-S4-25/test-2.ipynb#X26sZmlsZQ%3D%3D?line=12'>13</a>\u001b[0m \u001b[39mfrom\u001b[39;00m \u001b[39mkeras\u001b[39;00m\u001b[39m.\u001b[39;00m\u001b[39mlayers\u001b[39;00m \u001b[39mimport\u001b[39;00m Dense  \n\u001b[1;32m     <a href='vscode-notebook-cell:/Users/vuanhngo/Desktop/Github%20Repo/FYP-23-S4-25/test-2.ipynb#X26sZmlsZQ%3D%3D?line=13'>14</a>\u001b[0m \u001b[39mimport\u001b[39;00m \u001b[39mkeras\u001b[39;00m\u001b[39m.\u001b[39;00m\u001b[39mbackend\u001b[39;00m \u001b[39mas\u001b[39;00m \u001b[39mK\u001b[39;00m \n",
      "\u001b[0;31mModuleNotFoundError\u001b[0m: No module named 'tensorflow'"
     ]
    }
   ],
   "source": [
    "import yfinance as yf\n",
    "import pandas as pd\n",
    "import numpy as np\n",
    "from datetime import datetime\n",
    "import matplotlib.pyplot as plt \n",
    "from sklearn.preprocessing import MinMaxScaler \n",
    "from sklearn.model_selection import TimeSeriesSplit\n",
    "\n",
    "from sklearn.metrics import mean_squared_error, r2_score\n",
    "import matplotlib.dates as mdates  \n",
    "from sklearn import linear_model\n",
    "from tensorflow.keras.models import Sequential \n",
    "from keras.layers import Dense  \n",
    "import keras.backend as K \n",
    "from keras.callbacks import EarlyStopping  \n",
    "from keras.optimizers import Adam \n",
    "from keras.models import load_model \n",
    "from keras.layers import LSTM  \n",
    "from keras.utils.vis_utils import plot_model  \n",
    "\n"
   ]
  },
  {
   "cell_type": "code",
   "execution_count": 24,
   "metadata": {},
   "outputs": [
    {
     "name": "stdout",
     "output_type": "stream",
     "text": [
      "[*********************100%%**********************]  1 of 1 completed\n"
     ]
    },
    {
     "data": {
      "text/html": [
       "<div>\n",
       "<style scoped>\n",
       "    .dataframe tbody tr th:only-of-type {\n",
       "        vertical-align: middle;\n",
       "    }\n",
       "\n",
       "    .dataframe tbody tr th {\n",
       "        vertical-align: top;\n",
       "    }\n",
       "\n",
       "    .dataframe thead th {\n",
       "        text-align: right;\n",
       "    }\n",
       "</style>\n",
       "<table border=\"1\" class=\"dataframe\">\n",
       "  <thead>\n",
       "    <tr style=\"text-align: right;\">\n",
       "      <th></th>\n",
       "      <th>Open</th>\n",
       "      <th>High</th>\n",
       "      <th>Low</th>\n",
       "      <th>Close</th>\n",
       "      <th>Adj Close</th>\n",
       "      <th>Volume</th>\n",
       "    </tr>\n",
       "    <tr>\n",
       "      <th>Date</th>\n",
       "      <th></th>\n",
       "      <th></th>\n",
       "      <th></th>\n",
       "      <th></th>\n",
       "      <th></th>\n",
       "      <th></th>\n",
       "    </tr>\n",
       "  </thead>\n",
       "  <tbody>\n",
       "    <tr>\n",
       "      <th>1990-01-02</th>\n",
       "      <td>0.314732</td>\n",
       "      <td>0.334821</td>\n",
       "      <td>0.312500</td>\n",
       "      <td>0.332589</td>\n",
       "      <td>0.263761</td>\n",
       "      <td>183198400</td>\n",
       "    </tr>\n",
       "    <tr>\n",
       "      <th>1990-01-03</th>\n",
       "      <td>0.339286</td>\n",
       "      <td>0.339286</td>\n",
       "      <td>0.334821</td>\n",
       "      <td>0.334821</td>\n",
       "      <td>0.265531</td>\n",
       "      <td>207995200</td>\n",
       "    </tr>\n",
       "    <tr>\n",
       "      <th>1990-01-04</th>\n",
       "      <td>0.341518</td>\n",
       "      <td>0.345982</td>\n",
       "      <td>0.332589</td>\n",
       "      <td>0.335938</td>\n",
       "      <td>0.266417</td>\n",
       "      <td>221513600</td>\n",
       "    </tr>\n",
       "    <tr>\n",
       "      <th>1990-01-05</th>\n",
       "      <td>0.337054</td>\n",
       "      <td>0.341518</td>\n",
       "      <td>0.330357</td>\n",
       "      <td>0.337054</td>\n",
       "      <td>0.267302</td>\n",
       "      <td>123312000</td>\n",
       "    </tr>\n",
       "    <tr>\n",
       "      <th>1990-01-08</th>\n",
       "      <td>0.334821</td>\n",
       "      <td>0.339286</td>\n",
       "      <td>0.330357</td>\n",
       "      <td>0.339286</td>\n",
       "      <td>0.269072</td>\n",
       "      <td>101572800</td>\n",
       "    </tr>\n",
       "    <tr>\n",
       "      <th>...</th>\n",
       "      <td>...</td>\n",
       "      <td>...</td>\n",
       "      <td>...</td>\n",
       "      <td>...</td>\n",
       "      <td>...</td>\n",
       "      <td>...</td>\n",
       "    </tr>\n",
       "    <tr>\n",
       "      <th>2023-10-19</th>\n",
       "      <td>176.039993</td>\n",
       "      <td>177.839996</td>\n",
       "      <td>175.190002</td>\n",
       "      <td>175.460007</td>\n",
       "      <td>175.460007</td>\n",
       "      <td>59302900</td>\n",
       "    </tr>\n",
       "    <tr>\n",
       "      <th>2023-10-20</th>\n",
       "      <td>175.309998</td>\n",
       "      <td>175.419998</td>\n",
       "      <td>172.639999</td>\n",
       "      <td>172.880005</td>\n",
       "      <td>172.880005</td>\n",
       "      <td>64189300</td>\n",
       "    </tr>\n",
       "    <tr>\n",
       "      <th>2023-10-23</th>\n",
       "      <td>170.910004</td>\n",
       "      <td>174.009995</td>\n",
       "      <td>169.929993</td>\n",
       "      <td>173.000000</td>\n",
       "      <td>173.000000</td>\n",
       "      <td>55980100</td>\n",
       "    </tr>\n",
       "    <tr>\n",
       "      <th>2023-10-24</th>\n",
       "      <td>173.050003</td>\n",
       "      <td>173.669998</td>\n",
       "      <td>171.449997</td>\n",
       "      <td>173.440002</td>\n",
       "      <td>173.440002</td>\n",
       "      <td>43816600</td>\n",
       "    </tr>\n",
       "    <tr>\n",
       "      <th>2023-10-25</th>\n",
       "      <td>171.880005</td>\n",
       "      <td>173.059998</td>\n",
       "      <td>170.649994</td>\n",
       "      <td>171.100006</td>\n",
       "      <td>171.100006</td>\n",
       "      <td>56939400</td>\n",
       "    </tr>\n",
       "  </tbody>\n",
       "</table>\n",
       "<p>8520 rows × 6 columns</p>\n",
       "</div>"
      ],
      "text/plain": [
       "                  Open        High         Low       Close   Adj Close  \\\n",
       "Date                                                                     \n",
       "1990-01-02    0.314732    0.334821    0.312500    0.332589    0.263761   \n",
       "1990-01-03    0.339286    0.339286    0.334821    0.334821    0.265531   \n",
       "1990-01-04    0.341518    0.345982    0.332589    0.335938    0.266417   \n",
       "1990-01-05    0.337054    0.341518    0.330357    0.337054    0.267302   \n",
       "1990-01-08    0.334821    0.339286    0.330357    0.339286    0.269072   \n",
       "...                ...         ...         ...         ...         ...   \n",
       "2023-10-19  176.039993  177.839996  175.190002  175.460007  175.460007   \n",
       "2023-10-20  175.309998  175.419998  172.639999  172.880005  172.880005   \n",
       "2023-10-23  170.910004  174.009995  169.929993  173.000000  173.000000   \n",
       "2023-10-24  173.050003  173.669998  171.449997  173.440002  173.440002   \n",
       "2023-10-25  171.880005  173.059998  170.649994  171.100006  171.100006   \n",
       "\n",
       "               Volume  \n",
       "Date                   \n",
       "1990-01-02  183198400  \n",
       "1990-01-03  207995200  \n",
       "1990-01-04  221513600  \n",
       "1990-01-05  123312000  \n",
       "1990-01-08  101572800  \n",
       "...               ...  \n",
       "2023-10-19   59302900  \n",
       "2023-10-20   64189300  \n",
       "2023-10-23   55980100  \n",
       "2023-10-24   43816600  \n",
       "2023-10-25   56939400  \n",
       "\n",
       "[8520 rows x 6 columns]"
      ]
     },
     "execution_count": 24,
     "metadata": {},
     "output_type": "execute_result"
    }
   ],
   "source": [
    "# Define the ticker symbol for the company (e.g., Apple Inc. with the symbol AAPL)\n",
    "ticker_symbol = \"AAPL\"\n",
    "\n",
    "\n",
    "start_date = \"1990-01-01\"\n",
    "end_date = datetime.today().strftime('%Y-%m-%d')\n",
    "\n",
    "# Fetch the historical stock data\n",
    "data = yf.download(ticker_symbol, start=start_date, end=end_date)\n",
    "\n",
    "# Create a DataFrame from the fetched data\n",
    "df = pd.DataFrame(data)\n",
    "\n",
    "# Display the DataFrame\n",
    "df"
   ]
  },
  {
   "cell_type": "code",
   "execution_count": 26,
   "metadata": {},
   "outputs": [
    {
     "data": {
      "text/plain": [
       "<Axes: xlabel='Date'>"
      ]
     },
     "execution_count": 26,
     "metadata": {},
     "output_type": "execute_result"
    },
    {
     "data": {
      "image/png": "[encoded data removed]",
      "text/plain": [
       "<Figure size 640x480 with 1 Axes>"
      ]
     },
     "metadata": {},
     "output_type": "display_data"
    }
   ],
   "source": [
    "df[\"Adj Close\"].plot()\n"
   ]
  },
  {
   "cell_type": "code",
   "execution_count": 38,
   "metadata": {},
   "outputs": [],
   "source": [
    "#Set Target Variable\n",
    "output_var = pd.DataFrame(df[\"Adj Close\"])\n",
    "\n",
    "#Selecting the Features\n",
    "features = [\"Open\", \"High\", \"Low\", \"Volume\"]"
   ]
  },
  {
   "cell_type": "code",
   "execution_count": 43,
   "metadata": {},
   "outputs": [
    {
     "data": {
      "text/html": [
       "<div>\n",
       "<style scoped>\n",
       "    .dataframe tbody tr th:only-of-type {\n",
       "        vertical-align: middle;\n",
       "    }\n",
       "\n",
       "    .dataframe tbody tr th {\n",
       "        vertical-align: top;\n",
       "    }\n",
       "\n",
       "    .dataframe thead th {\n",
       "        text-align: right;\n",
       "    }\n",
       "</style>\n",
       "<table border=\"1\" class=\"dataframe\">\n",
       "  <thead>\n",
       "    <tr style=\"text-align: right;\">\n",
       "      <th></th>\n",
       "      <th>Open</th>\n",
       "      <th>High</th>\n",
       "      <th>Low</th>\n",
       "      <th>Volume</th>\n",
       "    </tr>\n",
       "    <tr>\n",
       "      <th>Date</th>\n",
       "      <th></th>\n",
       "      <th></th>\n",
       "      <th></th>\n",
       "      <th></th>\n",
       "    </tr>\n",
       "  </thead>\n",
       "  <tbody>\n",
       "    <tr>\n",
       "      <th>1990-01-02</th>\n",
       "      <td>0.001019</td>\n",
       "      <td>0.001093</td>\n",
       "      <td>0.001018</td>\n",
       "      <td>0.024369</td>\n",
       "    </tr>\n",
       "    <tr>\n",
       "      <th>1990-01-03</th>\n",
       "      <td>0.001144</td>\n",
       "      <td>0.001115</td>\n",
       "      <td>0.001132</td>\n",
       "      <td>0.027712</td>\n",
       "    </tr>\n",
       "    <tr>\n",
       "      <th>1990-01-04</th>\n",
       "      <td>0.001155</td>\n",
       "      <td>0.001149</td>\n",
       "      <td>0.001121</td>\n",
       "      <td>0.029534</td>\n",
       "    </tr>\n",
       "    <tr>\n",
       "      <th>1990-01-05</th>\n",
       "      <td>0.001132</td>\n",
       "      <td>0.001127</td>\n",
       "      <td>0.001109</td>\n",
       "      <td>0.016298</td>\n",
       "    </tr>\n",
       "    <tr>\n",
       "      <th>1990-01-08</th>\n",
       "      <td>0.001121</td>\n",
       "      <td>0.001115</td>\n",
       "      <td>0.001109</td>\n",
       "      <td>0.013367</td>\n",
       "    </tr>\n",
       "  </tbody>\n",
       "</table>\n",
       "</div>"
      ],
      "text/plain": [
       "                Open      High       Low    Volume\n",
       "Date                                              \n",
       "1990-01-02  0.001019  0.001093  0.001018  0.024369\n",
       "1990-01-03  0.001144  0.001115  0.001132  0.027712\n",
       "1990-01-04  0.001155  0.001149  0.001121  0.029534\n",
       "1990-01-05  0.001132  0.001127  0.001109  0.016298\n",
       "1990-01-08  0.001121  0.001115  0.001109  0.013367"
      ]
     },
     "execution_count": 43,
     "metadata": {},
     "output_type": "execute_result"
    }
   ],
   "source": [
    "# Scale the data \n",
    "\n",
    "scaler = MinMaxScaler()\n",
    "feature_transform = scaler.fit_transform(df[features])\n",
    "feature_transform= pd.DataFrame(columns=features, data=feature_transform, index=df.index)\n",
    "feature_transform.head()"
   ]
  },
  {
   "cell_type": "code",
   "execution_count": 44,
   "metadata": {},
   "outputs": [],
   "source": [
    "# Split to training and testing set\n",
    "\n",
    "timesplit=TimeSeriesSplit(n_splits=10)\n",
    "for train_index, test_index in timesplit.split(feature_transform):\n",
    "        X_train, X_test = feature_transform[:len(train_index)], feature_transform[len(train_index): (len(train_index)+len(test_index))]\n",
    "        y_train, y_test = output_var[:len(train_index)].values.ravel(), output_var[len(train_index): (len(train_index)+len(test_index))].values.ravel()"
   ]
  },
  {
   "cell_type": "code",
   "execution_count": 47,
   "metadata": {},
   "outputs": [],
   "source": [
    "# Finally, we need to transform the data into the format that the model can process \n",
    "\n",
    "trainX =np.array(X_train)\n",
    "testX =np.array(X_test)\n",
    "X_train = trainX.reshape(X_train.shape[0], 1, X_train.shape[1])\n",
    "X_test = testX.reshape(X_test.shape[0], 1, X_test.shape[1])"
   ]
  },
  {
   "cell_type": "code",
   "execution_count": 48,
   "metadata": {},
   "outputs": [
    {
     "ename": "SyntaxError",
     "evalue": "invalid character in identifier (516283375.py, line 4)",
     "output_type": "error",
     "traceback": [
      "\u001b[0;36m  Cell \u001b[0;32mIn[48], line 4\u001b[0;36m\u001b[0m\n\u001b[0;31m    lstm.add(LSTM(32, input_shape=(1, trainX.shape[1]), activation=’relu’, return_sequences=False))\u001b[0m\n\u001b[0m                                                                        ^\u001b[0m\n\u001b[0;31mSyntaxError\u001b[0m\u001b[0;31m:\u001b[0m invalid character in identifier\n"
     ]
    }
   ],
   "source": [
    "# Build the LSTM Model \n",
    "\n",
    "lstm = Sequential()\n",
    "lstm.add(LSTM(32, input_shape=(1, trainX.shape[1]), activation=\"relu\", return_sequences=False))\n",
    "lstm.add(Dense(1))\n",
    "lstm.compile(loss=\"mean_squared_error\", optimizer=\"adam\")\n",
    "plot_model(lstm, show_shapes=True, show_layer_names=True)"
   ]
  },
  {
   "cell_type": "code",
   "execution_count": null,
   "metadata": {},
   "outputs": [],
   "source": []
  }
 ],
 "metadata": {
  "language_info": {
   "name": "python"
  }
 },
 "nbformat": 4,
 "nbformat_minor": 2
}

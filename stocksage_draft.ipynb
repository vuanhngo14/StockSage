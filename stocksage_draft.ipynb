{
 "cells": [
  {
   "cell_type": "code",
   "execution_count": 104,
   "metadata": {},
   "outputs": [],
   "source": [
    "import yfinance as yf\n",
    "import pandas as pd\n",
    "import numpy as np\n",
    "from datetime import datetime\n",
    "import matplotlib.pyplot as plt \n",
    "from sklearn.preprocessing import MinMaxScaler, StandardScaler\n",
    "from sklearn.model_selection import TimeSeriesSplit\n",
    "\n",
    "from sklearn.metrics import mean_squared_error, r2_score, mean_absolute_error\n",
    "import matplotlib.dates as mdates  \n",
    "from sklearn import linear_model\n",
    "\n",
    "from tensorflow.keras.models import Sequential \n",
    "from keras.layers import Dense  \n",
    "import keras.backend as K \n",
    "from keras.callbacks import EarlyStopping  \n",
    "from keras.optimizers import Adam \n",
    "from keras.models import load_model \n",
    "from keras.layers import LSTM  \n",
    "from tensorflow.keras.utils import plot_model\n",
    "\n",
    "# Package for additional features\n",
    "from talib import abstract as ta\n",
    "from talib import RSI\n",
    "from talib import MACD\n",
    "\n",
    "# Fine tuning\n",
    "from sklearn.model_selection import GridSearchCV\n",
    "\n",
    "\n",
    "\n"
   ]
  },
  {
   "cell_type": "code",
   "execution_count": 105,
   "metadata": {},
   "outputs": [
    {
     "name": "stdout",
     "output_type": "stream",
     "text": [
      "[*********************100%%**********************]  1 of 1 completed\n"
     ]
    },
    {
     "data": {
      "text/html": [
       "<div>\n",
       "<style scoped>\n",
       "    .dataframe tbody tr th:only-of-type {\n",
       "        vertical-align: middle;\n",
       "    }\n",
       "\n",
       "    .dataframe tbody tr th {\n",
       "        vertical-align: top;\n",
       "    }\n",
       "\n",
       "    .dataframe thead th {\n",
       "        text-align: right;\n",
       "    }\n",
       "</style>\n",
       "<table border=\"1\" class=\"dataframe\">\n",
       "  <thead>\n",
       "    <tr style=\"text-align: right;\">\n",
       "      <th></th>\n",
       "      <th>Open</th>\n",
       "      <th>High</th>\n",
       "      <th>Low</th>\n",
       "      <th>Close</th>\n",
       "      <th>Adj Close</th>\n",
       "      <th>Volume</th>\n",
       "    </tr>\n",
       "    <tr>\n",
       "      <th>Date</th>\n",
       "      <th></th>\n",
       "      <th></th>\n",
       "      <th></th>\n",
       "      <th></th>\n",
       "      <th></th>\n",
       "      <th></th>\n",
       "    </tr>\n",
       "  </thead>\n",
       "  <tbody>\n",
       "    <tr>\n",
       "      <th>2010-01-04</th>\n",
       "      <td>7.622500</td>\n",
       "      <td>7.660714</td>\n",
       "      <td>7.585000</td>\n",
       "      <td>7.643214</td>\n",
       "      <td>6.478999</td>\n",
       "      <td>493729600</td>\n",
       "    </tr>\n",
       "    <tr>\n",
       "      <th>2010-01-05</th>\n",
       "      <td>7.664286</td>\n",
       "      <td>7.699643</td>\n",
       "      <td>7.616071</td>\n",
       "      <td>7.656429</td>\n",
       "      <td>6.490199</td>\n",
       "      <td>601904800</td>\n",
       "    </tr>\n",
       "    <tr>\n",
       "      <th>2010-01-06</th>\n",
       "      <td>7.656429</td>\n",
       "      <td>7.686786</td>\n",
       "      <td>7.526786</td>\n",
       "      <td>7.534643</td>\n",
       "      <td>6.386963</td>\n",
       "      <td>552160000</td>\n",
       "    </tr>\n",
       "    <tr>\n",
       "      <th>2010-01-07</th>\n",
       "      <td>7.562500</td>\n",
       "      <td>7.571429</td>\n",
       "      <td>7.466071</td>\n",
       "      <td>7.520714</td>\n",
       "      <td>6.375157</td>\n",
       "      <td>477131200</td>\n",
       "    </tr>\n",
       "    <tr>\n",
       "      <th>2010-01-08</th>\n",
       "      <td>7.510714</td>\n",
       "      <td>7.571429</td>\n",
       "      <td>7.466429</td>\n",
       "      <td>7.570714</td>\n",
       "      <td>6.417542</td>\n",
       "      <td>447610800</td>\n",
       "    </tr>\n",
       "  </tbody>\n",
       "</table>\n",
       "</div>"
      ],
      "text/plain": [
       "                Open      High       Low     Close  Adj Close     Volume\n",
       "Date                                                                    \n",
       "2010-01-04  7.622500  7.660714  7.585000  7.643214   6.478999  493729600\n",
       "2010-01-05  7.664286  7.699643  7.616071  7.656429   6.490199  601904800\n",
       "2010-01-06  7.656429  7.686786  7.526786  7.534643   6.386963  552160000\n",
       "2010-01-07  7.562500  7.571429  7.466071  7.520714   6.375157  477131200\n",
       "2010-01-08  7.510714  7.571429  7.466429  7.570714   6.417542  447610800"
      ]
     },
     "execution_count": 105,
     "metadata": {},
     "output_type": "execute_result"
    }
   ],
   "source": [
    "# Define the ticker symbol for the company (e.g., Apple Inc. with the symbol AAPL)\n",
    "ticker_symbol = \"AAPL\"\n",
    "\n",
    "start_date = \"2010-01-01\"\n",
    "end_date = datetime.today().strftime('%Y-%m-%d')\n",
    "\n",
    "data = yf.download(ticker_symbol, start=start_date, end=end_date)\n",
    "\n",
    "df = pd.DataFrame(data)\n",
    "df.head()"
   ]
  },
  {
   "cell_type": "code",
   "execution_count": 106,
   "metadata": {},
   "outputs": [
    {
     "data": {
      "text/plain": [
       "<Axes: xlabel='Date'>"
      ]
     },
     "execution_count": 106,
     "metadata": {},
     "output_type": "execute_result"
    },
    {
     "data": {
      "image/png": "[encoded data removed]",
      "text/plain": [
       "<Figure size 640x480 with 1 Axes>"
      ]
     },
     "metadata": {},
     "output_type": "display_data"
    }
   ],
   "source": [
    "df['Adj Close'].plot()"
   ]
  },
  {
   "cell_type": "code",
   "execution_count": 107,
   "metadata": {},
   "outputs": [],
   "source": [
    "# Select the features and the target \n",
    "target_y = df['Adj Close']\n",
    "X_feat = df.iloc[:,0:3]"
   ]
  },
  {
   "cell_type": "code",
   "execution_count": 108,
   "metadata": {},
   "outputs": [
    {
     "data": {
      "text/plain": [
       "(3518, 3)"
      ]
     },
     "execution_count": 108,
     "metadata": {},
     "output_type": "execute_result"
    }
   ],
   "source": [
    "# Scale the data using standard scaler \n",
    "# Standard scaler will scale between -1 and 1 \n",
    "\n",
    "sc = StandardScaler() \n",
    "X_ft = sc.fit_transform(X_feat.values)\n",
    "X_ft = pd.DataFrame(columns = X_feat.columns, \n",
    "                    data = X_ft, \n",
    "                    index = X_feat.index)\n",
    "\n",
    "X_ft.shape"
   ]
  },
  {
   "cell_type": "code",
   "execution_count": 109,
   "metadata": {},
   "outputs": [
    {
     "data": {
      "text/html": [
       "<div>\n",
       "<style scoped>\n",
       "    .dataframe tbody tr th:only-of-type {\n",
       "        vertical-align: middle;\n",
       "    }\n",
       "\n",
       "    .dataframe tbody tr th {\n",
       "        vertical-align: top;\n",
       "    }\n",
       "\n",
       "    .dataframe thead th {\n",
       "        text-align: right;\n",
       "    }\n",
       "</style>\n",
       "<table border=\"1\" class=\"dataframe\">\n",
       "  <thead>\n",
       "    <tr style=\"text-align: right;\">\n",
       "      <th></th>\n",
       "      <th>Open</th>\n",
       "      <th>High</th>\n",
       "      <th>Low</th>\n",
       "      <th>Close</th>\n",
       "    </tr>\n",
       "    <tr>\n",
       "      <th>Date</th>\n",
       "      <th></th>\n",
       "      <th></th>\n",
       "      <th></th>\n",
       "      <th></th>\n",
       "    </tr>\n",
       "  </thead>\n",
       "  <tbody>\n",
       "    <tr>\n",
       "      <th>2010-01-04</th>\n",
       "      <td>-0.943540</td>\n",
       "      <td>-0.943773</td>\n",
       "      <td>-0.942901</td>\n",
       "      <td>7.643214</td>\n",
       "    </tr>\n",
       "    <tr>\n",
       "      <th>2010-01-05</th>\n",
       "      <td>-0.942784</td>\n",
       "      <td>-0.943076</td>\n",
       "      <td>-0.942332</td>\n",
       "      <td>7.656429</td>\n",
       "    </tr>\n",
       "    <tr>\n",
       "      <th>2010-01-06</th>\n",
       "      <td>-0.942926</td>\n",
       "      <td>-0.943306</td>\n",
       "      <td>-0.943966</td>\n",
       "      <td>7.534643</td>\n",
       "    </tr>\n",
       "    <tr>\n",
       "      <th>2010-01-07</th>\n",
       "      <td>-0.944627</td>\n",
       "      <td>-0.945371</td>\n",
       "      <td>-0.945077</td>\n",
       "      <td>7.520714</td>\n",
       "    </tr>\n",
       "    <tr>\n",
       "      <th>2010-01-08</th>\n",
       "      <td>-0.945565</td>\n",
       "      <td>-0.945371</td>\n",
       "      <td>-0.945070</td>\n",
       "      <td>7.570714</td>\n",
       "    </tr>\n",
       "  </tbody>\n",
       "</table>\n",
       "</div>"
      ],
      "text/plain": [
       "                Open      High       Low     Close\n",
       "Date                                              \n",
       "2010-01-04 -0.943540 -0.943773 -0.942901  7.643214\n",
       "2010-01-05 -0.942784 -0.943076 -0.942332  7.656429\n",
       "2010-01-06 -0.942926 -0.943306 -0.943966  7.534643\n",
       "2010-01-07 -0.944627 -0.945371 -0.945077  7.520714\n",
       "2010-01-08 -0.945565 -0.945371 -0.945070  7.570714"
      ]
     },
     "execution_count": 109,
     "metadata": {},
     "output_type": "execute_result"
    }
   ],
   "source": [
    "# Group features and target into 1 df \n",
    "stock_df = pd.concat([X_ft, df['Close']], axis = 1)\n",
    "stock_df.head()\n"
   ]
  },
  {
   "cell_type": "code",
   "execution_count": 110,
   "metadata": {},
   "outputs": [],
   "source": [
    "# Define a function to do split into training and testing \n",
    "\n",
    "def lstm_split(data, n_steps):\n",
    "    X, y = [], []\n",
    "\n",
    "    for i in range(len(data) - n_steps+1): \n",
    "        X.append(data[i:i + n_steps, :-1])\n",
    "        y.append(data[i + n_steps -1, -1] )\n",
    "\n",
    "    return np.array(X), np.array(y) "
   ]
  },
  {
   "cell_type": "code",
   "execution_count": 111,
   "metadata": {},
   "outputs": [
    {
     "name": "stdout",
     "output_type": "stream",
     "text": [
      "(3517, 2, 3) (2814, 2, 3) (703, 2, 3) (703,)\n"
     ]
    }
   ],
   "source": [
    "# Generate train and test set\n",
    "X1, y1 = lstm_split(stock_df.values, n_steps = 2) # Predict based on the data of past 2 days \n",
    "\n",
    "train_split = 0.8\n",
    "split_idx = int(np.ceil(len(X1)*train_split))\n",
    "date_index = stock_df.index\n",
    "\n",
    "X_train, X_test = X1[:split_idx], X1[split_idx:]\n",
    "y_train, y_test = y1[:split_idx], y1[split_idx:]\n",
    "X_train_date, X_test_date = date_index[:split_idx], date_index[split_idx:]\n",
    "\n",
    "print(X1.shape, X_train.shape, X_test.shape, y_test.shape)"
   ]
  },
  {
   "cell_type": "markdown",
   "metadata": {},
   "source": [
    "## Build a simple LSTM model "
   ]
  },
  {
   "cell_type": "code",
   "execution_count": 112,
   "metadata": {},
   "outputs": [
    {
     "name": "stdout",
     "output_type": "stream",
     "text": [
      "Model: \"sequential_12\"\n",
      "_________________________________________________________________\n",
      " Layer (type)                Output Shape              Param #   \n",
      "=================================================================\n",
      " lstm_11 (LSTM)              (None, 32)                4608      \n",
      "                                                                 \n",
      " dense_10 (Dense)            (None, 1)                 33        \n",
      "                                                                 \n",
      "=================================================================\n",
      "Total params: 4641 (18.13 KB)\n",
      "Trainable params: 4641 (18.13 KB)\n",
      "Non-trainable params: 0 (0.00 Byte)\n",
      "_________________________________________________________________\n"
     ]
    }
   ],
   "source": [
    "lstm = Sequential()\n",
    "lstm.add(LSTM(32, input_shape=(X_train.shape[1], X_train.shape[2]), activation='relu', return_sequences=False))\n",
    "lstm.add(Dense(1))\n",
    "lstm.compile(loss='mean_squared_error', optimizer='adam')\n",
    "lstm.summary()"
   ]
  },
  {
   "cell_type": "code",
   "execution_count": 113,
   "metadata": {},
   "outputs": [
    {
     "name": "stdout",
     "output_type": "stream",
     "text": [
      "Epoch 1/100\n",
      "704/704 - 1s - loss: 585.6378 - 897ms/epoch - 1ms/step\n",
      "Epoch 2/100\n",
      "704/704 - 0s - loss: 707.1323 - 437ms/epoch - 621us/step\n",
      "Epoch 3/100\n",
      "704/704 - 0s - loss: 132.8498 - 435ms/epoch - 617us/step\n",
      "Epoch 4/100\n",
      "704/704 - 0s - loss: 66.0165 - 434ms/epoch - 616us/step\n",
      "Epoch 5/100\n",
      "704/704 - 0s - loss: 29.3586 - 432ms/epoch - 614us/step\n",
      "Epoch 6/100\n",
      "704/704 - 1s - loss: 13.6739 - 527ms/epoch - 749us/step\n",
      "Epoch 7/100\n",
      "704/704 - 0s - loss: 7.1157 - 480ms/epoch - 681us/step\n",
      "Epoch 8/100\n",
      "704/704 - 0s - loss: 4.3222 - 431ms/epoch - 613us/step\n",
      "Epoch 9/100\n",
      "704/704 - 0s - loss: 2.9609 - 449ms/epoch - 638us/step\n",
      "Epoch 10/100\n",
      "704/704 - 0s - loss: 2.2131 - 428ms/epoch - 608us/step\n",
      "Epoch 11/100\n",
      "704/704 - 0s - loss: 1.8118 - 465ms/epoch - 660us/step\n",
      "Epoch 12/100\n",
      "704/704 - 0s - loss: 1.6774 - 434ms/epoch - 617us/step\n",
      "Epoch 13/100\n",
      "704/704 - 0s - loss: 1.6507 - 433ms/epoch - 615us/step\n",
      "Epoch 14/100\n",
      "704/704 - 0s - loss: 1.5883 - 434ms/epoch - 617us/step\n",
      "Epoch 15/100\n",
      "704/704 - 0s - loss: 1.5151 - 433ms/epoch - 615us/step\n",
      "Epoch 16/100\n",
      "704/704 - 0s - loss: 1.4280 - 433ms/epoch - 616us/step\n",
      "Epoch 17/100\n",
      "704/704 - 0s - loss: 1.3764 - 434ms/epoch - 616us/step\n",
      "Epoch 18/100\n",
      "704/704 - 0s - loss: 1.3070 - 431ms/epoch - 612us/step\n",
      "Epoch 19/100\n",
      "704/704 - 0s - loss: 1.2541 - 444ms/epoch - 631us/step\n",
      "Epoch 20/100\n",
      "704/704 - 0s - loss: 1.2219 - 433ms/epoch - 615us/step\n",
      "Epoch 21/100\n",
      "704/704 - 0s - loss: 1.2108 - 434ms/epoch - 616us/step\n",
      "Epoch 22/100\n",
      "704/704 - 0s - loss: 1.1864 - 432ms/epoch - 613us/step\n",
      "Epoch 23/100\n",
      "704/704 - 0s - loss: 1.1871 - 434ms/epoch - 616us/step\n",
      "Epoch 24/100\n",
      "704/704 - 0s - loss: 1.1944 - 433ms/epoch - 614us/step\n",
      "Epoch 25/100\n",
      "704/704 - 0s - loss: 1.2177 - 431ms/epoch - 613us/step\n",
      "Epoch 26/100\n",
      "704/704 - 0s - loss: 1.2481 - 434ms/epoch - 616us/step\n",
      "Epoch 27/100\n",
      "704/704 - 0s - loss: 1.2870 - 432ms/epoch - 613us/step\n",
      "Epoch 28/100\n",
      "704/704 - 0s - loss: 1.3323 - 433ms/epoch - 615us/step\n",
      "Epoch 29/100\n",
      "704/704 - 0s - loss: 1.3816 - 433ms/epoch - 615us/step\n",
      "Epoch 30/100\n",
      "704/704 - 0s - loss: 1.4340 - 432ms/epoch - 614us/step\n",
      "Epoch 31/100\n",
      "704/704 - 0s - loss: 1.4917 - 430ms/epoch - 611us/step\n",
      "Epoch 32/100\n",
      "704/704 - 0s - loss: 1.5479 - 431ms/epoch - 613us/step\n",
      "Epoch 33/100\n",
      "704/704 - 0s - loss: 1.6077 - 432ms/epoch - 613us/step\n",
      "Epoch 34/100\n",
      "704/704 - 0s - loss: 1.6767 - 431ms/epoch - 612us/step\n",
      "Epoch 35/100\n",
      "704/704 - 0s - loss: 1.7592 - 429ms/epoch - 609us/step\n",
      "Epoch 36/100\n",
      "704/704 - 0s - loss: 1.8701 - 431ms/epoch - 612us/step\n",
      "Epoch 37/100\n",
      "704/704 - 0s - loss: 2.0330 - 434ms/epoch - 617us/step\n",
      "Epoch 38/100\n",
      "704/704 - 0s - loss: 2.2901 - 432ms/epoch - 614us/step\n",
      "Epoch 39/100\n",
      "704/704 - 0s - loss: 2.7060 - 431ms/epoch - 613us/step\n",
      "Epoch 40/100\n",
      "704/704 - 0s - loss: 3.3325 - 433ms/epoch - 615us/step\n",
      "Epoch 41/100\n",
      "704/704 - 0s - loss: 4.0013 - 478ms/epoch - 678us/step\n",
      "Epoch 42/100\n",
      "704/704 - 0s - loss: 4.2504 - 430ms/epoch - 611us/step\n",
      "Epoch 43/100\n",
      "704/704 - 0s - loss: 4.0355 - 430ms/epoch - 611us/step\n",
      "Epoch 44/100\n",
      "704/704 - 0s - loss: 3.7238 - 431ms/epoch - 612us/step\n",
      "Epoch 45/100\n",
      "704/704 - 0s - loss: 3.4972 - 431ms/epoch - 612us/step\n",
      "Epoch 46/100\n",
      "704/704 - 0s - loss: 3.3827 - 431ms/epoch - 612us/step\n",
      "Epoch 47/100\n",
      "704/704 - 0s - loss: 3.3451 - 431ms/epoch - 612us/step\n",
      "Epoch 48/100\n",
      "704/704 - 0s - loss: 3.3394 - 432ms/epoch - 614us/step\n",
      "Epoch 49/100\n",
      "704/704 - 0s - loss: 3.3370 - 463ms/epoch - 658us/step\n",
      "Epoch 50/100\n",
      "704/704 - 1s - loss: 3.3293 - 734ms/epoch - 1ms/step\n",
      "Epoch 51/100\n",
      "704/704 - 1s - loss: 3.3122 - 726ms/epoch - 1ms/step\n",
      "Epoch 52/100\n",
      "704/704 - 1s - loss: 3.2893 - 563ms/epoch - 799us/step\n",
      "Epoch 53/100\n",
      "704/704 - 0s - loss: 3.2613 - 440ms/epoch - 625us/step\n",
      "Epoch 54/100\n",
      "704/704 - 0s - loss: 3.2328 - 433ms/epoch - 615us/step\n",
      "Epoch 55/100\n",
      "704/704 - 0s - loss: 3.2044 - 433ms/epoch - 615us/step\n",
      "Epoch 56/100\n",
      "704/704 - 0s - loss: 3.1773 - 432ms/epoch - 614us/step\n",
      "Epoch 57/100\n",
      "704/704 - 0s - loss: 3.1495 - 432ms/epoch - 614us/step\n",
      "Epoch 58/100\n",
      "704/704 - 0s - loss: 3.1239 - 433ms/epoch - 615us/step\n",
      "Epoch 59/100\n",
      "704/704 - 0s - loss: 3.0971 - 430ms/epoch - 611us/step\n",
      "Epoch 60/100\n",
      "704/704 - 0s - loss: 3.0733 - 431ms/epoch - 612us/step\n",
      "Epoch 61/100\n",
      "704/704 - 0s - loss: 3.0487 - 431ms/epoch - 612us/step\n",
      "Epoch 62/100\n",
      "704/704 - 0s - loss: 3.0317 - 430ms/epoch - 611us/step\n",
      "Epoch 63/100\n",
      "704/704 - 0s - loss: 3.0143 - 433ms/epoch - 614us/step\n",
      "Epoch 64/100\n",
      "704/704 - 0s - loss: 2.9975 - 431ms/epoch - 613us/step\n",
      "Epoch 65/100\n",
      "704/704 - 0s - loss: 2.9806 - 432ms/epoch - 614us/step\n",
      "Epoch 66/100\n",
      "704/704 - 0s - loss: 2.9654 - 482ms/epoch - 685us/step\n",
      "Epoch 67/100\n",
      "704/704 - 0s - loss: 2.9500 - 431ms/epoch - 612us/step\n",
      "Epoch 68/100\n",
      "704/704 - 0s - loss: 2.9350 - 427ms/epoch - 607us/step\n",
      "Epoch 69/100\n",
      "704/704 - 0s - loss: 2.9198 - 430ms/epoch - 611us/step\n",
      "Epoch 70/100\n",
      "704/704 - 0s - loss: 2.9049 - 455ms/epoch - 646us/step\n",
      "Epoch 71/100\n",
      "704/704 - 1s - loss: 2.8896 - 521ms/epoch - 740us/step\n",
      "Epoch 72/100\n",
      "704/704 - 0s - loss: 2.8742 - 464ms/epoch - 659us/step\n",
      "Epoch 73/100\n",
      "704/704 - 0s - loss: 2.8582 - 436ms/epoch - 619us/step\n",
      "Epoch 74/100\n",
      "704/704 - 0s - loss: 2.8421 - 435ms/epoch - 617us/step\n",
      "Epoch 75/100\n",
      "704/704 - 0s - loss: 2.8259 - 434ms/epoch - 617us/step\n",
      "Epoch 76/100\n",
      "704/704 - 0s - loss: 2.8099 - 454ms/epoch - 645us/step\n",
      "Epoch 77/100\n",
      "704/704 - 0s - loss: 2.7945 - 431ms/epoch - 612us/step\n",
      "Epoch 78/100\n",
      "704/704 - 0s - loss: 2.7797 - 436ms/epoch - 619us/step\n",
      "Epoch 79/100\n",
      "704/704 - 0s - loss: 2.7653 - 434ms/epoch - 616us/step\n",
      "Epoch 80/100\n",
      "704/704 - 0s - loss: 2.7513 - 438ms/epoch - 621us/step\n",
      "Epoch 81/100\n",
      "704/704 - 0s - loss: 2.7373 - 438ms/epoch - 622us/step\n",
      "Epoch 82/100\n",
      "704/704 - 0s - loss: 2.7231 - 450ms/epoch - 640us/step\n",
      "Epoch 83/100\n",
      "704/704 - 0s - loss: 2.7084 - 443ms/epoch - 629us/step\n",
      "Epoch 84/100\n",
      "704/704 - 0s - loss: 2.6932 - 437ms/epoch - 621us/step\n",
      "Epoch 85/100\n",
      "704/704 - 0s - loss: 2.6776 - 442ms/epoch - 627us/step\n",
      "Epoch 86/100\n",
      "704/704 - 0s - loss: 2.6618 - 442ms/epoch - 627us/step\n",
      "Epoch 87/100\n",
      "704/704 - 0s - loss: 2.6457 - 445ms/epoch - 632us/step\n",
      "Epoch 88/100\n",
      "704/704 - 0s - loss: 2.6297 - 438ms/epoch - 622us/step\n",
      "Epoch 89/100\n",
      "704/704 - 0s - loss: 2.6140 - 431ms/epoch - 612us/step\n",
      "Epoch 90/100\n",
      "704/704 - 0s - loss: 2.5988 - 480ms/epoch - 682us/step\n",
      "Epoch 91/100\n",
      "704/704 - 0s - loss: 2.5840 - 490ms/epoch - 696us/step\n",
      "Epoch 92/100\n",
      "704/704 - 1s - loss: 2.5697 - 611ms/epoch - 868us/step\n",
      "Epoch 93/100\n",
      "704/704 - 1s - loss: 2.5554 - 585ms/epoch - 830us/step\n",
      "Epoch 94/100\n",
      "704/704 - 1s - loss: 2.5415 - 624ms/epoch - 887us/step\n",
      "Epoch 95/100\n",
      "704/704 - 0s - loss: 2.5274 - 427ms/epoch - 607us/step\n",
      "Epoch 96/100\n",
      "704/704 - 1s - loss: 2.5132 - 649ms/epoch - 922us/step\n",
      "Epoch 97/100\n",
      "704/704 - 0s - loss: 2.4990 - 494ms/epoch - 702us/step\n",
      "Epoch 98/100\n",
      "704/704 - 0s - loss: 2.4845 - 449ms/epoch - 638us/step\n",
      "Epoch 99/100\n",
      "704/704 - 1s - loss: 2.4698 - 549ms/epoch - 780us/step\n",
      "Epoch 100/100\n",
      "704/704 - 0s - loss: 2.4550 - 468ms/epoch - 665us/step\n"
     ]
    }
   ],
   "source": [
    "# Fit model to training data \n",
    "\n",
    "history = lstm.fit(X_train, y_train,\n",
    "                   epochs=100, batch_size=4,\n",
    "                   verbose=2, shuffle=False)"
   ]
  },
  {
   "cell_type": "markdown",
   "metadata": {},
   "source": [
    "## Performance evaluation "
   ]
  },
  {
   "cell_type": "code",
   "execution_count": 114,
   "metadata": {},
   "outputs": [
    {
     "name": "stdout",
     "output_type": "stream",
     "text": [
      "22/22 [==============================] - 0s 424us/step\n"
     ]
    },
    {
     "data": {
      "text/plain": [
       "(703, 1)"
      ]
     },
     "execution_count": 114,
     "metadata": {},
     "output_type": "execute_result"
    }
   ],
   "source": [
    "# Evaluate the performance on a test set \n",
    "\n",
    "y_pred = lstm.predict(X_test)\n",
    "y_pred.shape"
   ]
  },
  {
   "cell_type": "code",
   "execution_count": 115,
   "metadata": {},
   "outputs": [
    {
     "name": "stdout",
     "output_type": "stream",
     "text": [
      "(703, 1)\n",
      "(703,)\n"
     ]
    }
   ],
   "source": [
    "print(y_pred.shape)\n",
    "print(y_test.shape)"
   ]
  },
  {
   "cell_type": "code",
   "execution_count": 116,
   "metadata": {},
   "outputs": [
    {
     "data": {
      "image/png": "[encoded data removed]",
      "text/plain": [
       "<Figure size 640x480 with 1 Axes>"
      ]
     },
     "metadata": {},
     "output_type": "display_data"
    }
   ],
   "source": [
    "#Predicted vs True Adj Close Value – LSTM\n",
    "\n",
    "plt.plot(y_test, label='True Value')\n",
    "plt.plot(y_pred, label='LSTM Value')\n",
    "plt.title('Prediction by LSTM')\n",
    "plt.xlabel('Time Scale')\n",
    "plt.ylabel('Scaled USD')\n",
    "plt.legend()\n",
    "plt.show()"
   ]
  }
 ],
 "metadata": {
  "kernelspec": {
   "display_name": "fyp_env",
   "language": "python",
   "name": "python3"
  },
  "language_info": {
   "codemirror_mode": {
    "name": "ipython",
    "version": 3
   },
   "file_extension": ".py",
   "mimetype": "text/x-python",
   "name": "python",
   "nbconvert_exporter": "python",
   "pygments_lexer": "ipython3",
   "version": "3.8.18"
  }
 },
 "nbformat": 4,
 "nbformat_minor": 2
}
